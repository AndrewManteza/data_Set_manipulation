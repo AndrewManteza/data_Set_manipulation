{
  "nbformat": 4,
  "nbformat_minor": 0,
  "metadata": {
    "colab": {
      "name": "Data_TLA_7.ipynb",
      "provenance": [],
      "collapsed_sections": []
    },
    "kernelspec": {
      "name": "python3",
      "display_name": "Python 3"
    }
  },
  "cells": [
    {
      "cell_type": "code",
      "metadata": {
        "id": "jHa2kudywE-y"
      },
      "source": [
        "import pandas as pd\n",
        "import numpy as np\n",
        "\n",
        "df_data = pd.read_csv(\"/Time Series Dataset - Sheet1.csv\")\n",
        "\n"
      ],
      "execution_count": 2,
      "outputs": []
    },
    {
      "cell_type": "markdown",
      "metadata": {
        "id": "lCwAFjJZgtt5"
      },
      "source": [
        "Finds the amount of null data"
      ]
    },
    {
      "cell_type": "code",
      "metadata": {
        "id": "oTc_wF0H2Hw1",
        "outputId": "397860a3-7933-47b8-90dd-a6b020ac2c3b",
        "colab": {
          "base_uri": "https://localhost:8080/"
        }
      },
      "source": [
        "df_data.isnull().sum()"
      ],
      "execution_count": 3,
      "outputs": [
        {
          "output_type": "execute_result",
          "data": {
            "text/plain": [
              "item_name       0\n",
              "item_code       0\n",
              "created_at      0\n",
              "size            0\n",
              "quantity        0\n",
              "price           0\n",
              "store_type    979\n",
              "dtype: int64"
            ]
          },
          "metadata": {
            "tags": []
          },
          "execution_count": 3
        }
      ]
    },
    {
      "cell_type": "markdown",
      "metadata": {
        "id": "na21LkQz8ON7"
      },
      "source": [
        "a.Look for missing values in the store_type column and replace it with \"none\".\n",
        " "
      ]
    },
    {
      "cell_type": "code",
      "metadata": {
        "id": "lhttR1Ez2W4C",
        "outputId": "0bc68cf6-a527-4e76-937f-042c43dd6788",
        "colab": {
          "base_uri": "https://localhost:8080/",
          "height": 416
        }
      },
      "source": [
        "df_data.fillna('none')"
      ],
      "execution_count": 4,
      "outputs": [
        {
          "output_type": "execute_result",
          "data": {
            "text/html": [
              "<div>\n",
              "<style scoped>\n",
              "    .dataframe tbody tr th:only-of-type {\n",
              "        vertical-align: middle;\n",
              "    }\n",
              "\n",
              "    .dataframe tbody tr th {\n",
              "        vertical-align: top;\n",
              "    }\n",
              "\n",
              "    .dataframe thead th {\n",
              "        text-align: right;\n",
              "    }\n",
              "</style>\n",
              "<table border=\"1\" class=\"dataframe\">\n",
              "  <thead>\n",
              "    <tr style=\"text-align: right;\">\n",
              "      <th></th>\n",
              "      <th>item_name</th>\n",
              "      <th>item_code</th>\n",
              "      <th>created_at</th>\n",
              "      <th>size</th>\n",
              "      <th>quantity</th>\n",
              "      <th>price</th>\n",
              "      <th>store_type</th>\n",
              "    </tr>\n",
              "  </thead>\n",
              "  <tbody>\n",
              "    <tr>\n",
              "      <th>0</th>\n",
              "      <td>Men's haircut, barber shop</td>\n",
              "      <td>111211101</td>\n",
              "      <td>6/6/16 2:57 PM</td>\n",
              "      <td>1.0</td>\n",
              "      <td>1</td>\n",
              "      <td>50.00</td>\n",
              "      <td>private_service_provider</td>\n",
              "    </tr>\n",
              "    <tr>\n",
              "      <th>1</th>\n",
              "      <td>Sardines, tinned, with skin, in vegetable oil,...</td>\n",
              "      <td>110113201</td>\n",
              "      <td>4/19/16 5:47 PM</td>\n",
              "      <td>160.0</td>\n",
              "      <td>1</td>\n",
              "      <td>29.30</td>\n",
              "      <td>small_medium_shop</td>\n",
              "    </tr>\n",
              "    <tr>\n",
              "      <th>2</th>\n",
              "      <td>Broken rice, 25%, BNR</td>\n",
              "      <td>110111106</td>\n",
              "      <td>3/8/16 6:43 PM</td>\n",
              "      <td>1.0</td>\n",
              "      <td>1</td>\n",
              "      <td>12.49</td>\n",
              "      <td>none</td>\n",
              "    </tr>\n",
              "    <tr>\n",
              "      <th>3</th>\n",
              "      <td>Men's shirt, WKB-M</td>\n",
              "      <td>110312103</td>\n",
              "      <td>4/10/16 5:33 PM</td>\n",
              "      <td>1.0</td>\n",
              "      <td>1</td>\n",
              "      <td>349.00</td>\n",
              "      <td>small_medium_shop</td>\n",
              "    </tr>\n",
              "    <tr>\n",
              "      <th>4</th>\n",
              "      <td>Vacuum cleaner, WKB-M</td>\n",
              "      <td>110531111</td>\n",
              "      <td>3/24/16 9:36 PM</td>\n",
              "      <td>1.0</td>\n",
              "      <td>1</td>\n",
              "      <td>1799.00</td>\n",
              "      <td>small_medium_shop</td>\n",
              "    </tr>\n",
              "    <tr>\n",
              "      <th>...</th>\n",
              "      <td>...</td>\n",
              "      <td>...</td>\n",
              "      <td>...</td>\n",
              "      <td>...</td>\n",
              "      <td>...</td>\n",
              "      <td>...</td>\n",
              "      <td>...</td>\n",
              "    </tr>\n",
              "    <tr>\n",
              "      <th>3494</th>\n",
              "      <td>Kerosene</td>\n",
              "      <td>110453102</td>\n",
              "      <td>2/29/16 11:20 PM</td>\n",
              "      <td>1.0</td>\n",
              "      <td>1</td>\n",
              "      <td>15.49</td>\n",
              "      <td>none</td>\n",
              "    </tr>\n",
              "    <tr>\n",
              "      <th>3495</th>\n",
              "      <td>Water, still, large bottle, WKB</td>\n",
              "      <td>110122101</td>\n",
              "      <td>5/2/16 3:24 PM</td>\n",
              "      <td>1.5</td>\n",
              "      <td>1</td>\n",
              "      <td>13.00</td>\n",
              "      <td>small_medium_shop</td>\n",
              "    </tr>\n",
              "    <tr>\n",
              "      <th>3496</th>\n",
              "      <td>Two-bedroom apartment, 80-120 m2</td>\n",
              "      <td>1104111113</td>\n",
              "      <td>3/6/16 6:42 PM</td>\n",
              "      <td>1.0</td>\n",
              "      <td>1</td>\n",
              "      <td>4500.00</td>\n",
              "      <td>other</td>\n",
              "    </tr>\n",
              "    <tr>\n",
              "      <th>3497</th>\n",
              "      <td>Bread, whole wheat, WKB</td>\n",
              "      <td>110111303</td>\n",
              "      <td>6/6/16 5:06 PM</td>\n",
              "      <td>540.0</td>\n",
              "      <td>1</td>\n",
              "      <td>62.00</td>\n",
              "      <td>none</td>\n",
              "    </tr>\n",
              "    <tr>\n",
              "      <th>3498</th>\n",
              "      <td>Bread, whole wheat, WKB</td>\n",
              "      <td>110111303</td>\n",
              "      <td>5/22/16 6:29 PM</td>\n",
              "      <td>400.0</td>\n",
              "      <td>1</td>\n",
              "      <td>50.00</td>\n",
              "      <td>small_medium_shop</td>\n",
              "    </tr>\n",
              "  </tbody>\n",
              "</table>\n",
              "<p>3499 rows × 7 columns</p>\n",
              "</div>"
            ],
            "text/plain": [
              "                                              item_name  ...                store_type\n",
              "0                            Men's haircut, barber shop  ...  private_service_provider\n",
              "1     Sardines, tinned, with skin, in vegetable oil,...  ...         small_medium_shop\n",
              "2                                 Broken rice, 25%, BNR  ...                      none\n",
              "3                                    Men's shirt, WKB-M  ...         small_medium_shop\n",
              "4                                 Vacuum cleaner, WKB-M  ...         small_medium_shop\n",
              "...                                                 ...  ...                       ...\n",
              "3494                                           Kerosene  ...                      none\n",
              "3495                    Water, still, large bottle, WKB  ...         small_medium_shop\n",
              "3496                   Two-bedroom apartment, 80-120 m2  ...                     other\n",
              "3497                            Bread, whole wheat, WKB  ...                      none\n",
              "3498                            Bread, whole wheat, WKB  ...         small_medium_shop\n",
              "\n",
              "[3499 rows x 7 columns]"
            ]
          },
          "metadata": {
            "tags": []
          },
          "execution_count": 4
        }
      ]
    },
    {
      "cell_type": "markdown",
      "metadata": {
        "id": "HGz9QZHf8SqT"
      },
      "source": [
        "b. Print the total number of records."
      ]
    },
    {
      "cell_type": "code",
      "metadata": {
        "id": "WlxGCqMR25tc",
        "outputId": "1bc4f310-869d-449c-ece2-26f4b62c1f24",
        "colab": {
          "base_uri": "https://localhost:8080/"
        }
      },
      "source": [
        "df_data.size\n"
      ],
      "execution_count": 5,
      "outputs": [
        {
          "output_type": "execute_result",
          "data": {
            "text/plain": [
              "24493"
            ]
          },
          "metadata": {
            "tags": []
          },
          "execution_count": 5
        }
      ]
    },
    {
      "cell_type": "code",
      "metadata": {
        "id": "EE6tOQez333p",
        "outputId": "e4a8eec2-ed18-4350-fa45-ca2fe72fb0d1",
        "colab": {
          "base_uri": "https://localhost:8080/"
        }
      },
      "source": [
        "df_data.columns"
      ],
      "execution_count": 6,
      "outputs": [
        {
          "output_type": "execute_result",
          "data": {
            "text/plain": [
              "Index(['item_name', 'item_code', 'created_at', 'size', 'quantity', 'price',\n",
              "       'store_type'],\n",
              "      dtype='object')"
            ]
          },
          "metadata": {
            "tags": []
          },
          "execution_count": 6
        }
      ]
    },
    {
      "cell_type": "markdown",
      "metadata": {
        "id": "jTd1BT8g8ZNG"
      },
      "source": [
        "c. Print the number of records which doesn't belong into any of the store types."
      ]
    },
    {
      "cell_type": "code",
      "metadata": {
        "id": "E1I-fRyk3qeQ",
        "outputId": "6a45cfd7-4686-494c-91c3-31114f412d67",
        "colab": {
          "base_uri": "https://localhost:8080/",
          "height": 1000
        }
      },
      "source": [
        "df_data[df_data.store_type == 'None']"
      ],
      "execution_count": 7,
      "outputs": [
        {
          "output_type": "execute_result",
          "data": {
            "text/html": [
              "<div>\n",
              "<style scoped>\n",
              "    .dataframe tbody tr th:only-of-type {\n",
              "        vertical-align: middle;\n",
              "    }\n",
              "\n",
              "    .dataframe tbody tr th {\n",
              "        vertical-align: top;\n",
              "    }\n",
              "\n",
              "    .dataframe thead th {\n",
              "        text-align: right;\n",
              "    }\n",
              "</style>\n",
              "<table border=\"1\" class=\"dataframe\">\n",
              "  <thead>\n",
              "    <tr style=\"text-align: right;\">\n",
              "      <th></th>\n",
              "      <th>item_name</th>\n",
              "      <th>item_code</th>\n",
              "      <th>created_at</th>\n",
              "      <th>size</th>\n",
              "      <th>quantity</th>\n",
              "      <th>price</th>\n",
              "      <th>store_type</th>\n",
              "    </tr>\n",
              "  </thead>\n",
              "  <tbody>\n",
              "    <tr>\n",
              "      <th>36</th>\n",
              "      <td>Urban tram (rail) or tube, single ticket</td>\n",
              "      <td>110731104</td>\n",
              "      <td>6/12/16 10:45 PM</td>\n",
              "      <td>1.0</td>\n",
              "      <td>1</td>\n",
              "      <td>0.6</td>\n",
              "      <td>None</td>\n",
              "    </tr>\n",
              "    <tr>\n",
              "      <th>143</th>\n",
              "      <td>Urban tram (rail) or tube, single ticket</td>\n",
              "      <td>110731104</td>\n",
              "      <td>5/2/16 4:08 AM</td>\n",
              "      <td>1.0</td>\n",
              "      <td>1</td>\n",
              "      <td>4.0</td>\n",
              "      <td>None</td>\n",
              "    </tr>\n",
              "    <tr>\n",
              "      <th>438</th>\n",
              "      <td>Interurban transport, single ticket, 50 km</td>\n",
              "      <td>110731101</td>\n",
              "      <td>7/5/16 6:54 PM</td>\n",
              "      <td>1.0</td>\n",
              "      <td>1</td>\n",
              "      <td>3.0</td>\n",
              "      <td>None</td>\n",
              "    </tr>\n",
              "    <tr>\n",
              "      <th>589</th>\n",
              "      <td>Urban tram (rail) or tube, single ticket</td>\n",
              "      <td>110731104</td>\n",
              "      <td>5/1/16 3:40 PM</td>\n",
              "      <td>1.0</td>\n",
              "      <td>1</td>\n",
              "      <td>1.6</td>\n",
              "      <td>None</td>\n",
              "    </tr>\n",
              "    <tr>\n",
              "      <th>602</th>\n",
              "      <td>Urban tram (rail) or tube, single ticket</td>\n",
              "      <td>110731104</td>\n",
              "      <td>7/18/16 3:52 PM</td>\n",
              "      <td>1.0</td>\n",
              "      <td>1</td>\n",
              "      <td>2.0</td>\n",
              "      <td>None</td>\n",
              "    </tr>\n",
              "    <tr>\n",
              "      <th>645</th>\n",
              "      <td>Urban tram (rail) or tube, single ticket</td>\n",
              "      <td>110731104</td>\n",
              "      <td>5/1/16 3:33 PM</td>\n",
              "      <td>1.0</td>\n",
              "      <td>1</td>\n",
              "      <td>1.0</td>\n",
              "      <td>None</td>\n",
              "    </tr>\n",
              "    <tr>\n",
              "      <th>693</th>\n",
              "      <td>Interurban transport, single ticket, 50 km</td>\n",
              "      <td>110731101</td>\n",
              "      <td>4/10/16 10:40 PM</td>\n",
              "      <td>1.0</td>\n",
              "      <td>1</td>\n",
              "      <td>75.0</td>\n",
              "      <td>None</td>\n",
              "    </tr>\n",
              "    <tr>\n",
              "      <th>714</th>\n",
              "      <td>Urban tram (rail) or tube, single ticket</td>\n",
              "      <td>110731104</td>\n",
              "      <td>4/18/16 10:39 AM</td>\n",
              "      <td>1.0</td>\n",
              "      <td>1</td>\n",
              "      <td>2.1</td>\n",
              "      <td>None</td>\n",
              "    </tr>\n",
              "    <tr>\n",
              "      <th>788</th>\n",
              "      <td>Urban tram (rail) or tube, single ticket</td>\n",
              "      <td>110731104</td>\n",
              "      <td>7/11/16 11:57 AM</td>\n",
              "      <td>1.0</td>\n",
              "      <td>1</td>\n",
              "      <td>4.0</td>\n",
              "      <td>None</td>\n",
              "    </tr>\n",
              "    <tr>\n",
              "      <th>888</th>\n",
              "      <td>Urban tram (rail) or tube, single ticket</td>\n",
              "      <td>110731104</td>\n",
              "      <td>6/27/16 7:39 PM</td>\n",
              "      <td>1.0</td>\n",
              "      <td>1</td>\n",
              "      <td>2.0</td>\n",
              "      <td>None</td>\n",
              "    </tr>\n",
              "    <tr>\n",
              "      <th>1101</th>\n",
              "      <td>Interurban transport, single ticket, 50 km</td>\n",
              "      <td>110731101</td>\n",
              "      <td>4/17/16 5:04 AM</td>\n",
              "      <td>1.0</td>\n",
              "      <td>1</td>\n",
              "      <td>22.0</td>\n",
              "      <td>None</td>\n",
              "    </tr>\n",
              "    <tr>\n",
              "      <th>1102</th>\n",
              "      <td>Interurban transport, single ticket, 50 km</td>\n",
              "      <td>110731101</td>\n",
              "      <td>4/18/16 5:18 PM</td>\n",
              "      <td>1.0</td>\n",
              "      <td>1</td>\n",
              "      <td>6.0</td>\n",
              "      <td>None</td>\n",
              "    </tr>\n",
              "    <tr>\n",
              "      <th>1195</th>\n",
              "      <td>Interurban transport, single ticket, 50 km</td>\n",
              "      <td>110731101</td>\n",
              "      <td>4/17/16 7:41 PM</td>\n",
              "      <td>1.0</td>\n",
              "      <td>1</td>\n",
              "      <td>2.5</td>\n",
              "      <td>None</td>\n",
              "    </tr>\n",
              "    <tr>\n",
              "      <th>1254</th>\n",
              "      <td>Interurban transport, single ticket, 50 km</td>\n",
              "      <td>110731101</td>\n",
              "      <td>4/24/16 4:29 PM</td>\n",
              "      <td>1.0</td>\n",
              "      <td>1</td>\n",
              "      <td>90.0</td>\n",
              "      <td>None</td>\n",
              "    </tr>\n",
              "    <tr>\n",
              "      <th>1293</th>\n",
              "      <td>Interurban transport, single ticket, 50 km</td>\n",
              "      <td>110731101</td>\n",
              "      <td>7/18/16 4:14 PM</td>\n",
              "      <td>1.0</td>\n",
              "      <td>1</td>\n",
              "      <td>4.8</td>\n",
              "      <td>None</td>\n",
              "    </tr>\n",
              "    <tr>\n",
              "      <th>1345</th>\n",
              "      <td>Urban tram (rail) or tube, single ticket</td>\n",
              "      <td>110731104</td>\n",
              "      <td>5/31/16 4:31 PM</td>\n",
              "      <td>1.0</td>\n",
              "      <td>1</td>\n",
              "      <td>2.0</td>\n",
              "      <td>None</td>\n",
              "    </tr>\n",
              "    <tr>\n",
              "      <th>1517</th>\n",
              "      <td>Interurban transport, single ticket, 50 km</td>\n",
              "      <td>110731101</td>\n",
              "      <td>4/18/16 5:17 PM</td>\n",
              "      <td>1.0</td>\n",
              "      <td>1</td>\n",
              "      <td>6.5</td>\n",
              "      <td>None</td>\n",
              "    </tr>\n",
              "    <tr>\n",
              "      <th>1785</th>\n",
              "      <td>Interurban transport, single ticket, 50 km</td>\n",
              "      <td>110731101</td>\n",
              "      <td>4/17/16 5:03 AM</td>\n",
              "      <td>1.0</td>\n",
              "      <td>1</td>\n",
              "      <td>35.0</td>\n",
              "      <td>None</td>\n",
              "    </tr>\n",
              "    <tr>\n",
              "      <th>1903</th>\n",
              "      <td>Urban tram (rail) or tube, single ticket</td>\n",
              "      <td>110731104</td>\n",
              "      <td>6/6/16 2:40 AM</td>\n",
              "      <td>1.0</td>\n",
              "      <td>1</td>\n",
              "      <td>1.2</td>\n",
              "      <td>None</td>\n",
              "    </tr>\n",
              "    <tr>\n",
              "      <th>1918</th>\n",
              "      <td>Urban tram (rail) or tube, single ticket</td>\n",
              "      <td>110731104</td>\n",
              "      <td>7/27/16 11:25 AM</td>\n",
              "      <td>1.0</td>\n",
              "      <td>1</td>\n",
              "      <td>3.0</td>\n",
              "      <td>None</td>\n",
              "    </tr>\n",
              "    <tr>\n",
              "      <th>2201</th>\n",
              "      <td>Urban tram (rail) or tube, single ticket</td>\n",
              "      <td>110731104</td>\n",
              "      <td>6/6/16 1:17 AM</td>\n",
              "      <td>1.0</td>\n",
              "      <td>1</td>\n",
              "      <td>3.0</td>\n",
              "      <td>None</td>\n",
              "    </tr>\n",
              "    <tr>\n",
              "      <th>2332</th>\n",
              "      <td>Interurban transport, single ticket, 50 km</td>\n",
              "      <td>110731101</td>\n",
              "      <td>4/24/16 4:28 PM</td>\n",
              "      <td>1.0</td>\n",
              "      <td>1</td>\n",
              "      <td>300.0</td>\n",
              "      <td>None</td>\n",
              "    </tr>\n",
              "    <tr>\n",
              "      <th>2647</th>\n",
              "      <td>Interurban transport, single ticket, 50 km</td>\n",
              "      <td>110731101</td>\n",
              "      <td>5/22/16 3:54 PM</td>\n",
              "      <td>1.0</td>\n",
              "      <td>1</td>\n",
              "      <td>75.0</td>\n",
              "      <td>None</td>\n",
              "    </tr>\n",
              "    <tr>\n",
              "      <th>2897</th>\n",
              "      <td>Interurban transport, single ticket, 50 km</td>\n",
              "      <td>110731101</td>\n",
              "      <td>4/25/16 7:32 PM</td>\n",
              "      <td>1.0</td>\n",
              "      <td>1</td>\n",
              "      <td>20.0</td>\n",
              "      <td>None</td>\n",
              "    </tr>\n",
              "    <tr>\n",
              "      <th>2938</th>\n",
              "      <td>Urban tram (rail) or tube, single ticket</td>\n",
              "      <td>110731104</td>\n",
              "      <td>5/15/16 12:14 PM</td>\n",
              "      <td>1.0</td>\n",
              "      <td>1</td>\n",
              "      <td>0.3</td>\n",
              "      <td>None</td>\n",
              "    </tr>\n",
              "    <tr>\n",
              "      <th>3059</th>\n",
              "      <td>Urban tram (rail) or tube, single ticket</td>\n",
              "      <td>110731104</td>\n",
              "      <td>5/22/16 6:48 PM</td>\n",
              "      <td>1.0</td>\n",
              "      <td>1</td>\n",
              "      <td>1.0</td>\n",
              "      <td>None</td>\n",
              "    </tr>\n",
              "    <tr>\n",
              "      <th>3068</th>\n",
              "      <td>Interurban transport, single ticket, 50 km</td>\n",
              "      <td>110731101</td>\n",
              "      <td>4/4/16 10:40 PM</td>\n",
              "      <td>1.0</td>\n",
              "      <td>1</td>\n",
              "      <td>12.5</td>\n",
              "      <td>None</td>\n",
              "    </tr>\n",
              "    <tr>\n",
              "      <th>3262</th>\n",
              "      <td>Interurban transport, single ticket, 50 km</td>\n",
              "      <td>110731101</td>\n",
              "      <td>6/13/16 10:53 AM</td>\n",
              "      <td>1.0</td>\n",
              "      <td>1</td>\n",
              "      <td>6.5</td>\n",
              "      <td>None</td>\n",
              "    </tr>\n",
              "    <tr>\n",
              "      <th>3301</th>\n",
              "      <td>Urban tram (rail) or tube, single ticket</td>\n",
              "      <td>110731104</td>\n",
              "      <td>5/15/16 5:29 PM</td>\n",
              "      <td>1.0</td>\n",
              "      <td>1</td>\n",
              "      <td>4.1</td>\n",
              "      <td>None</td>\n",
              "    </tr>\n",
              "    <tr>\n",
              "      <th>3336</th>\n",
              "      <td>Urban tram (rail) or tube, single ticket</td>\n",
              "      <td>110731104</td>\n",
              "      <td>7/31/16 2:07 PM</td>\n",
              "      <td>1.0</td>\n",
              "      <td>1</td>\n",
              "      <td>0.6</td>\n",
              "      <td>None</td>\n",
              "    </tr>\n",
              "    <tr>\n",
              "      <th>3356</th>\n",
              "      <td>Interurban transport, single ticket, 50 km</td>\n",
              "      <td>110731101</td>\n",
              "      <td>4/25/16 4:25 PM</td>\n",
              "      <td>1.0</td>\n",
              "      <td>1</td>\n",
              "      <td>5.7</td>\n",
              "      <td>None</td>\n",
              "    </tr>\n",
              "    <tr>\n",
              "      <th>3433</th>\n",
              "      <td>Interurban transport, single ticket, 50 km</td>\n",
              "      <td>110731101</td>\n",
              "      <td>8/5/16 11:48 PM</td>\n",
              "      <td>1.0</td>\n",
              "      <td>1</td>\n",
              "      <td>12.0</td>\n",
              "      <td>None</td>\n",
              "    </tr>\n",
              "  </tbody>\n",
              "</table>\n",
              "</div>"
            ],
            "text/plain": [
              "                                       item_name  item_code  ...  price  store_type\n",
              "36      Urban tram (rail) or tube, single ticket  110731104  ...    0.6        None\n",
              "143     Urban tram (rail) or tube, single ticket  110731104  ...    4.0        None\n",
              "438   Interurban transport, single ticket, 50 km  110731101  ...    3.0        None\n",
              "589     Urban tram (rail) or tube, single ticket  110731104  ...    1.6        None\n",
              "602     Urban tram (rail) or tube, single ticket  110731104  ...    2.0        None\n",
              "645     Urban tram (rail) or tube, single ticket  110731104  ...    1.0        None\n",
              "693   Interurban transport, single ticket, 50 km  110731101  ...   75.0        None\n",
              "714     Urban tram (rail) or tube, single ticket  110731104  ...    2.1        None\n",
              "788     Urban tram (rail) or tube, single ticket  110731104  ...    4.0        None\n",
              "888     Urban tram (rail) or tube, single ticket  110731104  ...    2.0        None\n",
              "1101  Interurban transport, single ticket, 50 km  110731101  ...   22.0        None\n",
              "1102  Interurban transport, single ticket, 50 km  110731101  ...    6.0        None\n",
              "1195  Interurban transport, single ticket, 50 km  110731101  ...    2.5        None\n",
              "1254  Interurban transport, single ticket, 50 km  110731101  ...   90.0        None\n",
              "1293  Interurban transport, single ticket, 50 km  110731101  ...    4.8        None\n",
              "1345    Urban tram (rail) or tube, single ticket  110731104  ...    2.0        None\n",
              "1517  Interurban transport, single ticket, 50 km  110731101  ...    6.5        None\n",
              "1785  Interurban transport, single ticket, 50 km  110731101  ...   35.0        None\n",
              "1903    Urban tram (rail) or tube, single ticket  110731104  ...    1.2        None\n",
              "1918    Urban tram (rail) or tube, single ticket  110731104  ...    3.0        None\n",
              "2201    Urban tram (rail) or tube, single ticket  110731104  ...    3.0        None\n",
              "2332  Interurban transport, single ticket, 50 km  110731101  ...  300.0        None\n",
              "2647  Interurban transport, single ticket, 50 km  110731101  ...   75.0        None\n",
              "2897  Interurban transport, single ticket, 50 km  110731101  ...   20.0        None\n",
              "2938    Urban tram (rail) or tube, single ticket  110731104  ...    0.3        None\n",
              "3059    Urban tram (rail) or tube, single ticket  110731104  ...    1.0        None\n",
              "3068  Interurban transport, single ticket, 50 km  110731101  ...   12.5        None\n",
              "3262  Interurban transport, single ticket, 50 km  110731101  ...    6.5        None\n",
              "3301    Urban tram (rail) or tube, single ticket  110731104  ...    4.1        None\n",
              "3336    Urban tram (rail) or tube, single ticket  110731104  ...    0.6        None\n",
              "3356  Interurban transport, single ticket, 50 km  110731101  ...    5.7        None\n",
              "3433  Interurban transport, single ticket, 50 km  110731101  ...   12.0        None\n",
              "\n",
              "[32 rows x 7 columns]"
            ]
          },
          "metadata": {
            "tags": []
          },
          "execution_count": 7
        }
      ]
    },
    {
      "cell_type": "markdown",
      "metadata": {
        "id": "pe1QJCuC8gKc"
      },
      "source": [
        "d. From your dataset, create a new frame named sample_frame which will contain only 60% of the original records."
      ]
    },
    {
      "cell_type": "code",
      "metadata": {
        "id": "2QotuAcq4WaL",
        "outputId": "7a1fcb94-be3d-4ecf-8789-a0cdf08b5b44",
        "colab": {
          "base_uri": "https://localhost:8080/"
        }
      },
      "source": [
        "sample_frame = df_data.sample(frac=0.6)\n",
        "print(sample_frame)\n"
      ],
      "execution_count": 8,
      "outputs": [
        {
          "output_type": "stream",
          "text": [
            "                                   item_name  ...                store_type\n",
            "2858       Interurban (InterCity) bus, 50 Km  ...  private_service_provider\n",
            "739        Plaster strips, plastic foil, WKB  ...                       NaN\n",
            "527        Interurban (InterCity) bus, 50 Km  ...  private_service_provider\n",
            "1453                   Fresh potatoes, brown  ...                       NaN\n",
            "569   Men's sport shoes, ADIDAS, ASICS, NIKE  ...          specialized_shop\n",
            "...                                      ...  ...                       ...\n",
            "949                             Pork, fillet  ...         small_medium_shop\n",
            "419       Energy saving light bulb, 15W, WKB  ...         small_medium_shop\n",
            "2641               Honey, mixed blossoms, BL  ...                       NaN\n",
            "1625               Toothpaste, tube, COLGATE  ...         small_medium_shop\n",
            "2156              Foam mattress, double, WKB  ...         small_medium_shop\n",
            "\n",
            "[2099 rows x 7 columns]\n"
          ],
          "name": "stdout"
        }
      ]
    },
    {
      "cell_type": "markdown",
      "metadata": {
        "id": "5sQz3nRG_66e"
      },
      "source": [
        "e. Based on the generated sample, determine and print how much amount was added by a contributor on a monthly basis. "
      ]
    },
    {
      "cell_type": "markdown",
      "metadata": {
        "id": "wF2GieuHg4Ex"
      },
      "source": [
        "Checks the data for the price by grouping it by item name"
      ]
    },
    {
      "cell_type": "code",
      "metadata": {
        "id": "pxveZQFPFA9A",
        "outputId": "fc2bd123-520d-4f04-bfd7-1b7b634ae456",
        "colab": {
          "base_uri": "https://localhost:8080/"
        }
      },
      "source": [
        "sample_frame['item_code'].value_counts()"
      ],
      "execution_count": 9,
      "outputs": [
        {
          "output_type": "execute_result",
          "data": {
            "text/plain": [
              "110521103    79\n",
              "110321101    54\n",
              "110931110    49\n",
              "110312107    45\n",
              "110612105    43\n",
              "             ..\n",
              "110452101     1\n",
              "110453102     1\n",
              "110611135     1\n",
              "110951105     1\n",
              "110622101     1\n",
              "Name: item_code, Length: 130, dtype: int64"
            ]
          },
          "metadata": {
            "tags": []
          },
          "execution_count": 9
        }
      ]
    },
    {
      "cell_type": "code",
      "metadata": {
        "id": "cFj5M6eHGJM0",
        "outputId": "8f7ee66b-a29d-45d0-ab06-cfa9e0839d7e",
        "colab": {
          "base_uri": "https://localhost:8080/"
        }
      },
      "source": [
        "sample_frame.groupby('item_name')['price'].sum()"
      ],
      "execution_count": 10,
      "outputs": [
        {
          "output_type": "execute_result",
          "data": {
            "text/plain": [
              "item_name\n",
              "AA alkaline batteries, DURACELL                  2073.65\n",
              "Apple juice, WKB                                  219.45\n",
              "Bacon, smoked, WKB                                122.90\n",
              "Bar soap, solid, SB                               214.09\n",
              "Bath towel, large, WKB                          17485.37\n",
              "                                                  ...   \n",
              "Wheat flour, not self-rising, BL                  174.81\n",
              "White sugar, WKB                                  134.76\n",
              "Women's haircut, basic hairdresser               4820.00\n",
              "Wrist-watch, men's, CITIZEN Eco-Drive BM6060    34487.90\n",
              "Yoghurt, plain, WKB                                91.08\n",
              "Name: price, Length: 130, dtype: float64"
            ]
          },
          "metadata": {
            "tags": []
          },
          "execution_count": 10
        }
      ]
    },
    {
      "cell_type": "code",
      "metadata": {
        "id": "HZ91PoDWENcn",
        "outputId": "2f431540-1f92-4d40-86a1-6ea4679002bf",
        "colab": {
          "base_uri": "https://localhost:8080/"
        }
      },
      "source": [
        "sample_frame.columns"
      ],
      "execution_count": 11,
      "outputs": [
        {
          "output_type": "execute_result",
          "data": {
            "text/plain": [
              "Index(['item_name', 'item_code', 'created_at', 'size', 'quantity', 'price',\n",
              "       'store_type'],\n",
              "      dtype='object')"
            ]
          },
          "metadata": {
            "tags": []
          },
          "execution_count": 11
        }
      ]
    },
    {
      "cell_type": "markdown",
      "metadata": {
        "id": "ntQue9NJJHT7"
      },
      "source": [
        "f. Based on the generated sample, determine and print the mount added for each store type in each week. Consider only the first 50 records."
      ]
    },
    {
      "cell_type": "markdown",
      "metadata": {
        "id": "eP44sOP4hEYk"
      },
      "source": [
        "assign to sample_frame_fifty the first 50 records and group them by store type and when they were created and add the prices"
      ]
    },
    {
      "cell_type": "code",
      "metadata": {
        "id": "QbNoWv7ACzbb",
        "outputId": "ec82e8fb-be15-4861-cb0e-36af36e31114",
        "colab": {
          "base_uri": "https://localhost:8080/",
          "height": 1000
        }
      },
      "source": [
        "sample_frame_fifty = sample_frame.head(50)\n",
        "sample_frame_fifty.groupby(['store_type','created_at'], as_index=False)['price'].sum()"
      ],
      "execution_count": 12,
      "outputs": [
        {
          "output_type": "execute_result",
          "data": {
            "text/html": [
              "<div>\n",
              "<style scoped>\n",
              "    .dataframe tbody tr th:only-of-type {\n",
              "        vertical-align: middle;\n",
              "    }\n",
              "\n",
              "    .dataframe tbody tr th {\n",
              "        vertical-align: top;\n",
              "    }\n",
              "\n",
              "    .dataframe thead th {\n",
              "        text-align: right;\n",
              "    }\n",
              "</style>\n",
              "<table border=\"1\" class=\"dataframe\">\n",
              "  <thead>\n",
              "    <tr style=\"text-align: right;\">\n",
              "      <th></th>\n",
              "      <th>store_type</th>\n",
              "      <th>created_at</th>\n",
              "      <th>price</th>\n",
              "    </tr>\n",
              "  </thead>\n",
              "  <tbody>\n",
              "    <tr>\n",
              "      <th>0</th>\n",
              "      <td>other</td>\n",
              "      <td>4/20/16 4:00 AM</td>\n",
              "      <td>3700.00</td>\n",
              "    </tr>\n",
              "    <tr>\n",
              "      <th>1</th>\n",
              "      <td>other</td>\n",
              "      <td>5/2/16 2:36 PM</td>\n",
              "      <td>30000.00</td>\n",
              "    </tr>\n",
              "    <tr>\n",
              "      <th>2</th>\n",
              "      <td>other</td>\n",
              "      <td>8/8/16 12:27 PM</td>\n",
              "      <td>4000.00</td>\n",
              "    </tr>\n",
              "    <tr>\n",
              "      <th>3</th>\n",
              "      <td>private_service_provider</td>\n",
              "      <td>3/28/16 2:50 AM</td>\n",
              "      <td>2380.53</td>\n",
              "    </tr>\n",
              "    <tr>\n",
              "      <th>4</th>\n",
              "      <td>private_service_provider</td>\n",
              "      <td>4/18/16 6:06 PM</td>\n",
              "      <td>26.00</td>\n",
              "    </tr>\n",
              "    <tr>\n",
              "      <th>5</th>\n",
              "      <td>private_service_provider</td>\n",
              "      <td>6/26/16 5:34 PM</td>\n",
              "      <td>87.00</td>\n",
              "    </tr>\n",
              "    <tr>\n",
              "      <th>6</th>\n",
              "      <td>small_medium_shop</td>\n",
              "      <td>3/21/16 8:08 PM</td>\n",
              "      <td>539.00</td>\n",
              "    </tr>\n",
              "    <tr>\n",
              "      <th>7</th>\n",
              "      <td>small_medium_shop</td>\n",
              "      <td>3/27/16 2:05 PM</td>\n",
              "      <td>1895.00</td>\n",
              "    </tr>\n",
              "    <tr>\n",
              "      <th>8</th>\n",
              "      <td>small_medium_shop</td>\n",
              "      <td>4/12/16 7:31 PM</td>\n",
              "      <td>12.00</td>\n",
              "    </tr>\n",
              "    <tr>\n",
              "      <th>9</th>\n",
              "      <td>small_medium_shop</td>\n",
              "      <td>4/18/16 12:13 AM</td>\n",
              "      <td>899.00</td>\n",
              "    </tr>\n",
              "    <tr>\n",
              "      <th>10</th>\n",
              "      <td>small_medium_shop</td>\n",
              "      <td>4/18/16 5:13 PM</td>\n",
              "      <td>10.50</td>\n",
              "    </tr>\n",
              "    <tr>\n",
              "      <th>11</th>\n",
              "      <td>small_medium_shop</td>\n",
              "      <td>4/24/16 3:24 PM</td>\n",
              "      <td>485.00</td>\n",
              "    </tr>\n",
              "    <tr>\n",
              "      <th>12</th>\n",
              "      <td>small_medium_shop</td>\n",
              "      <td>4/24/16 9:33 PM</td>\n",
              "      <td>1499.00</td>\n",
              "    </tr>\n",
              "    <tr>\n",
              "      <th>13</th>\n",
              "      <td>small_medium_shop</td>\n",
              "      <td>5/22/16 5:22 PM</td>\n",
              "      <td>3999.00</td>\n",
              "    </tr>\n",
              "    <tr>\n",
              "      <th>14</th>\n",
              "      <td>small_medium_shop</td>\n",
              "      <td>5/22/16 5:37 PM</td>\n",
              "      <td>106.00</td>\n",
              "    </tr>\n",
              "    <tr>\n",
              "      <th>15</th>\n",
              "      <td>small_medium_shop</td>\n",
              "      <td>5/22/16 9:59 PM</td>\n",
              "      <td>17.59</td>\n",
              "    </tr>\n",
              "    <tr>\n",
              "      <th>16</th>\n",
              "      <td>small_medium_shop</td>\n",
              "      <td>5/29/16 3:14 PM</td>\n",
              "      <td>12.85</td>\n",
              "    </tr>\n",
              "    <tr>\n",
              "      <th>17</th>\n",
              "      <td>small_medium_shop</td>\n",
              "      <td>5/7/16 4:23 PM</td>\n",
              "      <td>34.99</td>\n",
              "    </tr>\n",
              "    <tr>\n",
              "      <th>18</th>\n",
              "      <td>small_medium_shop</td>\n",
              "      <td>6/12/16 10:10 PM</td>\n",
              "      <td>3500.00</td>\n",
              "    </tr>\n",
              "    <tr>\n",
              "      <th>19</th>\n",
              "      <td>small_medium_shop</td>\n",
              "      <td>6/19/16 10:41 PM</td>\n",
              "      <td>700.00</td>\n",
              "    </tr>\n",
              "    <tr>\n",
              "      <th>20</th>\n",
              "      <td>small_medium_shop</td>\n",
              "      <td>7/10/16 3:19 PM</td>\n",
              "      <td>734.00</td>\n",
              "    </tr>\n",
              "    <tr>\n",
              "      <th>21</th>\n",
              "      <td>small_medium_shop</td>\n",
              "      <td>7/10/16 7:28 PM</td>\n",
              "      <td>999.00</td>\n",
              "    </tr>\n",
              "    <tr>\n",
              "      <th>22</th>\n",
              "      <td>small_medium_shop</td>\n",
              "      <td>7/27/16 5:28 PM</td>\n",
              "      <td>9.90</td>\n",
              "    </tr>\n",
              "    <tr>\n",
              "      <th>23</th>\n",
              "      <td>small_medium_shop</td>\n",
              "      <td>7/3/16 3:39 PM</td>\n",
              "      <td>65.00</td>\n",
              "    </tr>\n",
              "    <tr>\n",
              "      <th>24</th>\n",
              "      <td>small_medium_shop</td>\n",
              "      <td>7/31/16 10:30 PM</td>\n",
              "      <td>29.90</td>\n",
              "    </tr>\n",
              "    <tr>\n",
              "      <th>25</th>\n",
              "      <td>specialized_shop</td>\n",
              "      <td>4/10/16 12:50 PM</td>\n",
              "      <td>14.96</td>\n",
              "    </tr>\n",
              "    <tr>\n",
              "      <th>26</th>\n",
              "      <td>specialized_shop</td>\n",
              "      <td>4/3/16 1:56 PM</td>\n",
              "      <td>669.00</td>\n",
              "    </tr>\n",
              "    <tr>\n",
              "      <th>27</th>\n",
              "      <td>specialized_shop</td>\n",
              "      <td>4/6/16 9:24 PM</td>\n",
              "      <td>15.71</td>\n",
              "    </tr>\n",
              "    <tr>\n",
              "      <th>28</th>\n",
              "      <td>specialized_shop</td>\n",
              "      <td>5/31/16 5:42 PM</td>\n",
              "      <td>659.00</td>\n",
              "    </tr>\n",
              "    <tr>\n",
              "      <th>29</th>\n",
              "      <td>specialized_shop</td>\n",
              "      <td>6/15/16 4:38 PM</td>\n",
              "      <td>620.00</td>\n",
              "    </tr>\n",
              "    <tr>\n",
              "      <th>30</th>\n",
              "      <td>specialized_shop</td>\n",
              "      <td>8/10/16 3:56 PM</td>\n",
              "      <td>1899.00</td>\n",
              "    </tr>\n",
              "    <tr>\n",
              "      <th>31</th>\n",
              "      <td>street_outlet</td>\n",
              "      <td>5/29/16 6:11 PM</td>\n",
              "      <td>100.00</td>\n",
              "    </tr>\n",
              "  </tbody>\n",
              "</table>\n",
              "</div>"
            ],
            "text/plain": [
              "                  store_type        created_at     price\n",
              "0                      other   4/20/16 4:00 AM   3700.00\n",
              "1                      other    5/2/16 2:36 PM  30000.00\n",
              "2                      other   8/8/16 12:27 PM   4000.00\n",
              "3   private_service_provider   3/28/16 2:50 AM   2380.53\n",
              "4   private_service_provider   4/18/16 6:06 PM     26.00\n",
              "5   private_service_provider   6/26/16 5:34 PM     87.00\n",
              "6          small_medium_shop   3/21/16 8:08 PM    539.00\n",
              "7          small_medium_shop   3/27/16 2:05 PM   1895.00\n",
              "8          small_medium_shop   4/12/16 7:31 PM     12.00\n",
              "9          small_medium_shop  4/18/16 12:13 AM    899.00\n",
              "10         small_medium_shop   4/18/16 5:13 PM     10.50\n",
              "11         small_medium_shop   4/24/16 3:24 PM    485.00\n",
              "12         small_medium_shop   4/24/16 9:33 PM   1499.00\n",
              "13         small_medium_shop   5/22/16 5:22 PM   3999.00\n",
              "14         small_medium_shop   5/22/16 5:37 PM    106.00\n",
              "15         small_medium_shop   5/22/16 9:59 PM     17.59\n",
              "16         small_medium_shop   5/29/16 3:14 PM     12.85\n",
              "17         small_medium_shop    5/7/16 4:23 PM     34.99\n",
              "18         small_medium_shop  6/12/16 10:10 PM   3500.00\n",
              "19         small_medium_shop  6/19/16 10:41 PM    700.00\n",
              "20         small_medium_shop   7/10/16 3:19 PM    734.00\n",
              "21         small_medium_shop   7/10/16 7:28 PM    999.00\n",
              "22         small_medium_shop   7/27/16 5:28 PM      9.90\n",
              "23         small_medium_shop    7/3/16 3:39 PM     65.00\n",
              "24         small_medium_shop  7/31/16 10:30 PM     29.90\n",
              "25          specialized_shop  4/10/16 12:50 PM     14.96\n",
              "26          specialized_shop    4/3/16 1:56 PM    669.00\n",
              "27          specialized_shop    4/6/16 9:24 PM     15.71\n",
              "28          specialized_shop   5/31/16 5:42 PM    659.00\n",
              "29          specialized_shop   6/15/16 4:38 PM    620.00\n",
              "30          specialized_shop   8/10/16 3:56 PM   1899.00\n",
              "31             street_outlet   5/29/16 6:11 PM    100.00"
            ]
          },
          "metadata": {
            "tags": []
          },
          "execution_count": 12
        }
      ]
    },
    {
      "cell_type": "markdown",
      "metadata": {
        "id": "qJVpLIHBL__-"
      },
      "source": [
        "g. Based on the generated sample, create a group object named group_data and create a grouping on the basis of store type. Determine and print the total amount per store type."
      ]
    },
    {
      "cell_type": "markdown",
      "metadata": {
        "id": "CLzqvGNNhNz2"
      },
      "source": [
        "The same as the previous operation where they are grouped by store_type and adds their prices"
      ]
    },
    {
      "cell_type": "code",
      "metadata": {
        "id": "AqPWa-LpMJEq",
        "outputId": "0ff19a7f-411c-4298-cdc6-0a0915715626",
        "colab": {
          "base_uri": "https://localhost:8080/",
          "height": 202
        }
      },
      "source": [
        "group_data = sample_frame_fifty\n",
        "group_data.groupby(['store_type'], as_index=False)['price'].sum()"
      ],
      "execution_count": 13,
      "outputs": [
        {
          "output_type": "execute_result",
          "data": {
            "text/html": [
              "<div>\n",
              "<style scoped>\n",
              "    .dataframe tbody tr th:only-of-type {\n",
              "        vertical-align: middle;\n",
              "    }\n",
              "\n",
              "    .dataframe tbody tr th {\n",
              "        vertical-align: top;\n",
              "    }\n",
              "\n",
              "    .dataframe thead th {\n",
              "        text-align: right;\n",
              "    }\n",
              "</style>\n",
              "<table border=\"1\" class=\"dataframe\">\n",
              "  <thead>\n",
              "    <tr style=\"text-align: right;\">\n",
              "      <th></th>\n",
              "      <th>store_type</th>\n",
              "      <th>price</th>\n",
              "    </tr>\n",
              "  </thead>\n",
              "  <tbody>\n",
              "    <tr>\n",
              "      <th>0</th>\n",
              "      <td>other</td>\n",
              "      <td>37700.00</td>\n",
              "    </tr>\n",
              "    <tr>\n",
              "      <th>1</th>\n",
              "      <td>private_service_provider</td>\n",
              "      <td>2493.53</td>\n",
              "    </tr>\n",
              "    <tr>\n",
              "      <th>2</th>\n",
              "      <td>small_medium_shop</td>\n",
              "      <td>15547.73</td>\n",
              "    </tr>\n",
              "    <tr>\n",
              "      <th>3</th>\n",
              "      <td>specialized_shop</td>\n",
              "      <td>3877.67</td>\n",
              "    </tr>\n",
              "    <tr>\n",
              "      <th>4</th>\n",
              "      <td>street_outlet</td>\n",
              "      <td>100.00</td>\n",
              "    </tr>\n",
              "  </tbody>\n",
              "</table>\n",
              "</div>"
            ],
            "text/plain": [
              "                 store_type     price\n",
              "0                     other  37700.00\n",
              "1  private_service_provider   2493.53\n",
              "2         small_medium_shop  15547.73\n",
              "3          specialized_shop   3877.67\n",
              "4             street_outlet    100.00"
            ]
          },
          "metadata": {
            "tags": []
          },
          "execution_count": 13
        }
      ]
    }
  ]
}